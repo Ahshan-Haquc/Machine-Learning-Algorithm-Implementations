{
  "nbformat": 4,
  "nbformat_minor": 0,
  "metadata": {
    "colab": {
      "provenance": []
    },
    "kernelspec": {
      "name": "python3",
      "display_name": "Python 3"
    },
    "language_info": {
      "name": "python"
    }
  },
  "cells": [
    {
      "cell_type": "code",
      "execution_count": 1,
      "metadata": {
        "id": "stn9Exzj_w_n"
      },
      "outputs": [],
      "source": [
        "import numpy as np\n",
        "\n",
        "X = np.array([\n",
        "    [0, 0],\n",
        "    [0, 1],\n",
        "    [1, 0],\n",
        "    [1, 1]\n",
        "])\n",
        "\n",
        "y_AND = np.array([[0], [0], [0], [1]])\n",
        "y_OR = np.array([[0], [1], [1], [1]])\n"
      ]
    },
    {
      "cell_type": "code",
      "source": [
        "# Sigmoid activation function\n",
        "def sigmoid(x):\n",
        "    return 1 / (1 + np.exp(-x))\n",
        "\n",
        "# Derivative of the sigmoid function for backpropagation\n",
        "def sigmoid_derivative(x):\n",
        "    return x * (1 - x)\n"
      ],
      "metadata": {
        "id": "UI8eFUsuAHqX"
      },
      "execution_count": 2,
      "outputs": []
    },
    {
      "cell_type": "code",
      "source": [
        "# Set random seed for reproducibility\n",
        "np.random.seed(42)\n",
        "\n",
        "# Initialize weights and biases for a single hidden layer MLP\n",
        "input_layer_neurons = 2\n",
        "hidden_layer_neurons = 2\n",
        "output_layer_neurons = 1\n",
        "\n",
        "# Random initialization of weights and biases\n",
        "weights_input_hidden = np.random.uniform(size=(input_layer_neurons, hidden_layer_neurons))\n",
        "bias_hidden = np.random.uniform(size=(1, hidden_layer_neurons))\n",
        "\n",
        "weights_hidden_output = np.random.uniform(size=(hidden_layer_neurons, output_layer_neurons))\n",
        "bias_output = np.random.uniform(size=(1, output_layer_neurons))\n",
        "\n",
        "# Learning rate\n",
        "learning_rate = 0.1\n"
      ],
      "metadata": {
        "id": "kSnl59psAMNv"
      },
      "execution_count": 3,
      "outputs": []
    },
    {
      "cell_type": "code",
      "source": [
        "# Function to train the MLP for a given dataset\n",
        "def train(X, y, epochs=10000):\n",
        "    global weights_input_hidden, bias_hidden, weights_hidden_output, bias_output\n",
        "\n",
        "    for epoch in range(epochs):\n",
        "        # Forward pass\n",
        "        hidden_layer_input = np.dot(X, weights_input_hidden) + bias_hidden\n",
        "        hidden_layer_activation = sigmoid(hidden_layer_input)\n",
        "\n",
        "        output_layer_input = np.dot(hidden_layer_activation, weights_hidden_output) + bias_output\n",
        "        predicted_output = sigmoid(output_layer_input)\n",
        "\n",
        "        # Compute error\n",
        "        error = y - predicted_output\n",
        "\n",
        "        # Backpropagation\n",
        "        d_predicted_output = error * sigmoid_derivative(predicted_output)\n",
        "\n",
        "        error_hidden_layer = d_predicted_output.dot(weights_hidden_output.T)\n",
        "        d_hidden_layer = error_hidden_layer * sigmoid_derivative(hidden_layer_activation)\n",
        "\n",
        "        # Update weights and biases\n",
        "        weights_hidden_output += hidden_layer_activation.T.dot(d_predicted_output) * learning_rate\n",
        "        bias_output += np.sum(d_predicted_output, axis=0, keepdims=True) * learning_rate\n",
        "\n",
        "        weights_input_hidden += X.T.dot(d_hidden_layer) * learning_rate\n",
        "        bias_hidden += np.sum(d_hidden_layer, axis=0, keepdims=True) * learning_rate\n",
        "\n",
        "        # Print loss every 1000 epochs\n",
        "        if epoch % 1000 == 0:\n",
        "            loss = np.mean(np.abs(error))\n",
        "            print(f\"Epoch {epoch}, Loss: {loss}\")\n"
      ],
      "metadata": {
        "id": "WVTqbKxnAT0_"
      },
      "execution_count": 4,
      "outputs": []
    },
    {
      "cell_type": "code",
      "source": [
        "print(\"Training OR gate...\")\n",
        "train(X, y_OR)\n",
        "\n",
        "# Testing OR gate\n",
        "print(\"\\nTesting OR gate...\")\n",
        "hidden_layer_input = np.dot(X, weights_input_hidden) + bias_hidden\n",
        "hidden_layer_activation = sigmoid(hidden_layer_input)\n",
        "\n",
        "output_layer_input = np.dot(hidden_layer_activation, weights_hidden_output) + bias_output\n",
        "predicted_output_OR = sigmoid(output_layer_input)\n",
        "\n",
        "print(\"Predicted output for OR gate:\")\n",
        "print(predicted_output_OR)\n"
      ],
      "metadata": {
        "colab": {
          "base_uri": "https://localhost:8080/"
        },
        "id": "GOuWqd09AZrq",
        "outputId": "61b1b242-5e69-4bac-e4b0-b2a0174e8851"
      },
      "execution_count": 5,
      "outputs": [
        {
          "output_type": "stream",
          "name": "stdout",
          "text": [
            "Training OR gate...\n",
            "Epoch 0, Loss: 0.34830954788107094\n",
            "Epoch 1000, Loss: 0.17567415753245702\n",
            "Epoch 2000, Loss: 0.08614554755745864\n",
            "Epoch 3000, Loss: 0.06046842998815584\n",
            "Epoch 4000, Loss: 0.048267993261238595\n",
            "Epoch 5000, Loss: 0.04098384777694779\n",
            "Epoch 6000, Loss: 0.036066118210937984\n",
            "Epoch 7000, Loss: 0.03248299997691558\n",
            "Epoch 8000, Loss: 0.029733600323943822\n",
            "Epoch 9000, Loss: 0.02754356672972217\n",
            "\n",
            "Testing OR gate...\n",
            "Predicted output for OR gate:\n",
            "[[0.04499629]\n",
            " [0.97532332]\n",
            " [0.9744172 ]\n",
            " [0.99225925]]\n"
          ]
        }
      ]
    },
    {
      "cell_type": "code",
      "source": [
        "print(\"\\nTraining AND gate...\")\n",
        "train(X, y_AND)\n",
        "\n",
        "# Testing AND gate\n",
        "print(\"\\nTesting AND gate...\")\n",
        "hidden_layer_input = np.dot(X, weights_input_hidden) + bias_hidden\n",
        "hidden_layer_activation = sigmoid(hidden_layer_input)\n",
        "\n",
        "output_layer_input = np.dot(hidden_layer_activation, weights_hidden_output) + bias_output\n",
        "predicted_output_AND = sigmoid(output_layer_input)\n",
        "\n",
        "print(\"Predicted output for AND gate:\")\n",
        "print(predicted_output_AND)\n"
      ],
      "metadata": {
        "colab": {
          "base_uri": "https://localhost:8080/"
        },
        "id": "RWxK6__TAf-n",
        "outputId": "e39ffd7d-c40e-4082-f99f-52d7cdc70af3"
      },
      "execution_count": 6,
      "outputs": [
        {
          "output_type": "stream",
          "name": "stdout",
          "text": [
            "\n",
            "Training AND gate...\n",
            "Epoch 0, Loss: 0.5006193919742096\n",
            "Epoch 1000, Loss: 0.04923915540385587\n",
            "Epoch 2000, Loss: 0.040563930278313606\n",
            "Epoch 3000, Loss: 0.03587402065037058\n",
            "Epoch 4000, Loss: 0.03260097538042167\n",
            "Epoch 5000, Loss: 0.03009390561181586\n",
            "Epoch 6000, Loss: 0.0280794348375303\n",
            "Epoch 7000, Loss: 0.02641089361653018\n",
            "Epoch 8000, Loss: 0.02499848125993196\n",
            "Epoch 9000, Loss: 0.02378269066277513\n",
            "\n",
            "Testing AND gate...\n",
            "Predicted output for AND gate:\n",
            "[[0.00504856]\n",
            " [0.02682404]\n",
            " [0.02602283]\n",
            " [0.96700757]]\n"
          ]
        }
      ]
    }
  ]
}