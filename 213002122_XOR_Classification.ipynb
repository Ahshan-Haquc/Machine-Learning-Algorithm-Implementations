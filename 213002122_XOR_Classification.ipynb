{
  "nbformat": 4,
  "nbformat_minor": 0,
  "metadata": {
    "colab": {
      "provenance": []
    },
    "kernelspec": {
      "name": "python3",
      "display_name": "Python 3"
    },
    "language_info": {
      "name": "python"
    }
  },
  "cells": [
    {
      "cell_type": "code",
      "execution_count": 1,
      "metadata": {
        "id": "O_muhMJNdDfQ"
      },
      "outputs": [],
      "source": [
        "import tensorflow as tf\n",
        "import numpy as np\n",
        "import matplotlib.pyplot as plt\n",
        "import pandas as pd\n",
        "\n",
        "plt.rcParams['figure.figsize'] = (16, 10)\n",
        "plt.rcParams['text.usetex'] = True\n",
        "plt.rc('font', size=15)"
      ]
    },
    {
      "cell_type": "code",
      "source": [
        "def neural_net(features):\n",
        "    layer1 = tf.sigmoid(tf.matmul(features, W1) + b1)\n",
        "    layer2 = tf.sigmoid(tf.matmul(features, W2) + b2)\n",
        "    layer3 = tf.concat([layer1, layer2],-1)\n",
        "    layer3 = tf.reshape(layer3, shape = [-1,2])\n",
        "    hypothesis = tf.sigmoid(tf.matmul(layer3, W3) + b3)\n",
        "    return hypothesis"
      ],
      "metadata": {
        "id": "o0g821bbdjj6"
      },
      "execution_count": 2,
      "outputs": []
    },
    {
      "cell_type": "code",
      "source": [
        "X = [[0, 0],\n",
        "     [0, 1],\n",
        "     [1, 0],\n",
        "     [1, 1]]\n",
        "\n",
        "y = [[0],\n",
        "     [1],\n",
        "     [1],\n",
        "     [0]]\n",
        "\n",
        "X = tf.cast(X, dtype=tf.float32)\n",
        "y = tf.cast(y, dtype=tf.float32)\n",
        "\n",
        "dataset = tf.data.Dataset.from_tensor_slices((X, y)).batch(len(X))\n"
      ],
      "metadata": {
        "id": "bl6tZKw0dsLh"
      },
      "execution_count": 3,
      "outputs": []
    },
    {
      "cell_type": "code",
      "source": [
        "tf.random.set_seed(777)\n",
        "\n",
        "W1 = tf.Variable(tf.random.normal([2, 1]), name='weight1')\n",
        "b1 = tf.Variable(tf.random.normal([1]), name='bias1')\n",
        "\n",
        "W2 = tf.Variable(tf.random.normal([2, 1]), name='weight2')\n",
        "b2 = tf.Variable(tf.random.normal([1]), name='bias2')\n",
        "\n",
        "W3 = tf.Variable(tf.random.normal([2, 1]), name='weight3')\n",
        "b3 = tf.Variable(tf.random.normal([1]), name='bias3')"
      ],
      "metadata": {
        "id": "xoaFJg0sdwdh"
      },
      "execution_count": 4,
      "outputs": []
    },
    {
      "cell_type": "code",
      "source": [
        "def loss_fn(h, y):\n",
        "    cost = -tf.reduce_mean(y * tf.math.log(h) + (1 - y) * tf.math.log(1 - h))\n",
        "    return cost\n",
        "\n",
        "def grad(X, y):\n",
        "    with tf.GradientTape() as tape:\n",
        "        h = neural_net(X)\n",
        "        losses = loss_fn(h, y)\n",
        "    return tape.gradient(losses, [W1, W2, W3, b1, b2, b3])\n",
        "\n",
        "def accuracy_fn(h, y):\n",
        "    predict = tf.cast(h > 0.5, dtype=tf.float32)\n",
        "    accuracy = tf.reduce_mean(tf.cast(tf.equal(predict, y), dtype=tf.float32))\n",
        "    return accuracy\n"
      ],
      "metadata": {
        "id": "bGJG3P_gd4Zp"
      },
      "execution_count": 5,
      "outputs": []
    },
    {
      "cell_type": "code",
      "source": [
        "\n",
        "optimizer = tf.keras.optimizers.SGD(learning_rate=0.01)\n",
        "\n",
        "for e in range(50000):\n",
        "    for X, y in dataset:\n",
        "        grads = grad(X, y)\n",
        "        optimizer.apply_gradients(grads_and_vars=zip(grads, [W1, W2, W3, b1, b2, b3]))\n",
        "        if e % 5000 == 0:\n",
        "            print(\"Epoch: {}, Loss: {:.4f}\".format(e, loss_fn(neural_net(X), y)))"
      ],
      "metadata": {
        "colab": {
          "base_uri": "https://localhost:8080/"
        },
        "id": "fYrYUSdvd8Hx",
        "outputId": "15285705-2b47-410d-85cf-54084c6cfded"
      },
      "execution_count": 6,
      "outputs": [
        {
          "output_type": "stream",
          "name": "stdout",
          "text": [
            "Epoch: 0, Loss: 0.8487\n",
            "Epoch: 5000, Loss: 0.6847\n",
            "Epoch: 10000, Loss: 0.6610\n",
            "Epoch: 15000, Loss: 0.6154\n",
            "Epoch: 20000, Loss: 0.5722\n",
            "Epoch: 25000, Loss: 0.5433\n",
            "Epoch: 30000, Loss: 0.5211\n",
            "Epoch: 35000, Loss: 0.4911\n",
            "Epoch: 40000, Loss: 0.4416\n",
            "Epoch: 45000, Loss: 0.3313\n"
          ]
        }
      ]
    },
    {
      "cell_type": "code",
      "source": [
        "accuracy = accuracy_fn(neural_net(X), y)\n",
        "print(\"Accuracy: {:.4f}\".format(accuracy))"
      ],
      "metadata": {
        "colab": {
          "base_uri": "https://localhost:8080/"
        },
        "id": "FBHzDUprgw9C",
        "outputId": "ce10ea1f-c7d4-482b-ab70-c84d85da37b2"
      },
      "execution_count": 7,
      "outputs": [
        {
          "output_type": "stream",
          "name": "stdout",
          "text": [
            "Accuracy: 1.0000\n"
          ]
        }
      ]
    }
  ]
}